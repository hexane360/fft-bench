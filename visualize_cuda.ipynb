{
  "cells": [
    {
      "cell_type": "code",
      "execution_count": 1,
      "metadata": {},
      "outputs": [],
      "source": [
        "%reload_ext autoreload\n",
        "%autoreload 2\n",
        "\n",
        "%matplotlib widget\n",
        "\n",
        "from pathlib import Path\n",
        "import typing as t\n",
        "\n",
        "import numpy\n",
        "from matplotlib import pyplot"
      ]
    },
    {
      "cell_type": "code",
      "execution_count": 2,
      "metadata": {},
      "outputs": [],
      "source": [
        "import json\n",
        "\n",
        "from fft_bench.main import BenchResult\n",
        "\n",
        "nb_path = Path(\"\").resolve()\n",
        "\n",
        "paths = [\n",
        "    Path('bench_supercloud.json'),\n",
        "]\n",
        "\n",
        "results: t.List[BenchResult] = []\n",
        "\n",
        "for path in paths:\n",
        "    with open(path, 'r') as f:\n",
        "        for line in f:\n",
        "            results.append(BenchResult(**json.loads(line)))"
      ]
    },
    {
      "cell_type": "code",
      "execution_count": 3,
      "metadata": {},
      "outputs": [],
      "source": [
        "results"
      ]
    },
    {
      "cell_type": "code",
      "execution_count": 6,
      "metadata": {},
      "outputs": [],
      "source": [
        "from itertools import chain\n",
        "\n",
        "numpy_results = list(filter(lambda r: r.backend == 'numpy', results))\n",
        "#accel_results = list(filter(lambda r: r.backend == 'accelerate', results))\n",
        "cuda_results = list(filter(lambda r: r.backend == 'cuda', results))\n",
        "\n",
        "fig, ax = pyplot.subplots()\n",
        "\n",
        "ax.set_yscale('log')\n",
        "ax.set_xscale('log')\n",
        "\n",
        "for backend in ('numpy', 'cuda'):\n",
        "    for double in (False, True):\n",
        "        rs = list(filter(lambda r: r.backend == backend and r.double == double and r.n_d == 2, results))\n",
        "\n",
        "        xs = list(chain.from_iterable(map(lambda r: (2**(r.log2n),) * len(r.times), rs)))\n",
        "        ys = list(chain.from_iterable(map(lambda r: r.times, rs)))\n",
        "        ax.plot(xs, ys, ' ', marker='o' if double else 'x', color='blue' if backend == 'numpy' else 'red', markersize=5,\n",
        "                label=f\"{backend.title()} {'Double' if double else 'Single'}\")\n",
        "\n",
        "n_powers_x = 14\n",
        "n_powers_y = 16\n",
        "ax.set_xlim(32, 32 * 2**n_powers_x)\n",
        "ax.set_ylim(2e-5, 2e-5 * 2**n_powers_y)\n",
        "n_powers = max(n_powers_y, n_powers_x)\n",
        "ax.plot([32, 32 * 2**n_powers], [2e-5, 2e-5 * 2**n_powers])\n",
        "ax.set_aspect(n_powers_y / n_powers_x)\n",
        "\n",
        "ax.legend()\n",
        "ax.set_xlabel('# Points')\n",
        "ax.set_ylabel('Time per slice (s)')\n",
        "\n",
        "pyplot.show()"
      ]
    },
    {
      "cell_type": "code",
      "execution_count": 8,
      "metadata": {},
      "outputs": [],
      "source": [
        "from matplotlib.cm import get_cmap\n",
        "from matplotlib.colors import Normalize\n",
        "\n",
        "fig, ax = pyplot.subplots()\n",
        "\n",
        "ax.set_yscale('log')\n",
        "ax.set_xscale('log')\n",
        "\n",
        "slices_cmap = get_cmap('hot')\n",
        "slices_norm = Normalize(vmin=1, vmax=8)\n",
        "\n",
        "for double in (False, True):\n",
        "    rs = list(filter(lambda r: r.backend == 'cuda' and r.double == double and r.n_d == 2, results))\n",
        "\n",
        "    for n_slices in set(map(lambda r: r.n_slices_per_call, rs)):\n",
        "        n_slices_rs = list(filter(lambda r: r.n_slices_per_call == n_slices, rs))\n",
        "        xs = list(chain.from_iterable(map(lambda r: (2**(r.log2n),) * len(r.times), n_slices_rs)))\n",
        "        ys = list(chain.from_iterable(map(lambda r: r.times, n_slices_rs)))\n",
        "        ax.plot(xs, ys, ' ', marker='o' if double else 'x', color=slices_cmap(slices_norm(n_slices)), markersize=5,\n",
        "                label=f\"{backend.title()} {'Double' if double else 'Single'} {n_slices} slices\")\n",
        "\n",
        "n_powers_x = 14\n",
        "n_powers_y = 16\n",
        "ax.set_xlim(32, 32 * 2**n_powers_x)\n",
        "ax.set_ylim(2e-5, 2e-5 * 2**n_powers_y)\n",
        "n_powers = max(n_powers_y, n_powers_x)\n",
        "ax.plot([32, 32 * 2**n_powers], [2e-5, 2e-5 * 2**n_powers])\n",
        "ax.set_aspect(n_powers_y / n_powers_x)\n",
        "\n",
        "ax.legend()\n",
        "ax.set_xlabel('# Points')\n",
        "ax.set_ylabel('Time per slice (s)')\n",
        "\n",
        "pyplot.show()"
      ]
    },
    {
      "cell_type": "code",
      "execution_count": null,
      "metadata": {},
      "outputs": [],
      "source": []
    }
  ],
  "metadata": {
    "kernelspec": {
      "display_name": "venv",
      "language": "python",
      "name": "python3"
    },
    "language_info": {
      "codemirror_mode": {
        "name": "ipython",
        "version": 3
      },
      "file_extension": ".py",
      "mimetype": "text/x-python",
      "name": "python",
      "nbconvert_exporter": "python",
      "pygments_lexer": "ipython3",
      "version": "3.10.9"
    },
    "orig_nbformat": 4,
    "vscode": {
      "interpreter": {
        "hash": "0d274a3cd3be452af65dccf7150eda431e721ae8851fe1c85ca19bcecff2be36"
      }
    }
  },
  "nbformat": 4,
  "nbformat_minor": 2
}
