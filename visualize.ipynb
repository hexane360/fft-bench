{
  "cells": [
    {
      "cell_type": "code",
      "execution_count": 11,
      "metadata": {},
      "outputs": [],
      "source": [
        "%reload_ext autoreload\n",
        "%autoreload 2\n",
        "\n",
        "%matplotlib widget\n",
        "\n",
        "from pathlib import Path\n",
        "import typing as t\n",
        "\n",
        "import numpy\n",
        "from matplotlib import pyplot"
      ]
    },
    {
      "cell_type": "code",
      "execution_count": 12,
      "metadata": {},
      "outputs": [],
      "source": [
        "import json\n",
        "\n",
        "from fft_bench.main import BenchResult\n",
        "\n",
        "nb_path = Path(\"\").resolve()\n",
        "\n",
        "paths = [\n",
        "    Path('bench_results.json'),\n",
        "]\n",
        "\n",
        "results: t.List[BenchResult] = []\n",
        "\n",
        "for path in paths:\n",
        "    with open(path, 'r') as f:\n",
        "        for line in f:\n",
        "            results.append(BenchResult(**json.loads(line)))"
      ]
    },
    {
      "cell_type": "code",
      "execution_count": 13,
      "metadata": {},
      "outputs": [],
      "source": [
        "results"
      ]
    },
    {
      "cell_type": "code",
      "execution_count": 56,
      "metadata": {},
      "outputs": [],
      "source": [
        "from itertools import chain\n",
        "\n",
        "numpy_results = list(filter(lambda r: r.backend == 'Numpy', results))\n",
        "accel_results = list(filter(lambda r: r.backend == 'Accelerate', results))\n",
        "\n",
        "fig, ax = pyplot.subplots()\n",
        "\n",
        "ax.set_yscale('log')\n",
        "ax.set_xscale('log')\n",
        "\n",
        "for backend in ('Numpy', 'Accelerate'):\n",
        "    for double in (False, True):\n",
        "        rs = list(filter(lambda r: r.backend == backend and r.double == double and r.n_d == 2, results))\n",
        "\n",
        "        xs = list(chain.from_iterable(map(lambda r: (2**r.log2n,) * len(r.times), rs)))\n",
        "        ys = list(chain.from_iterable(map(lambda r: r.times, rs)))\n",
        "        ax.plot(xs, ys, ' ', marker='o' if double else 'x', color='blue' if backend == 'Numpy' else 'red', markersize=5,\n",
        "                label=f\"{backend} {'Double' if double else 'Single'}\")\n",
        "\n",
        "n_powers_x = 14\n",
        "n_powers_y = 16\n",
        "ax.set_xlim(32, 32 * 2**n_powers_x)\n",
        "ax.set_ylim(2e-5, 2e-5 * 2**n_powers_y)\n",
        "n_powers = max(n_powers_y, n_powers_x)\n",
        "ax.plot([32, 32 * 2**n_powers], [2e-5, 2e-5 * 2**n_powers])\n",
        "ax.set_aspect(n_powers_y / n_powers_x)\n",
        "\n",
        "ax.legend()\n",
        "ax.set_xlabel('# Points')\n",
        "ax.set_ylabel('Time per slice (s)')\n",
        "\n",
        "pyplot.show()"
      ]
    }
  ],
  "metadata": {
    "kernelspec": {
      "display_name": "venv",
      "language": "python",
      "name": "python3"
    },
    "language_info": {
      "codemirror_mode": {
        "name": "ipython",
        "version": 3
      },
      "file_extension": ".py",
      "mimetype": "text/x-python",
      "name": "python",
      "nbconvert_exporter": "python",
      "pygments_lexer": "ipython3",
      "version": "3.10.9"
    },
    "orig_nbformat": 4,
    "vscode": {
      "interpreter": {
        "hash": "0d274a3cd3be452af65dccf7150eda431e721ae8851fe1c85ca19bcecff2be36"
      }
    }
  },
  "nbformat": 4,
  "nbformat_minor": 2
}
