{
  "cells": [
    {
      "cell_type": "code",
      "execution_count": 24,
      "metadata": {},
      "outputs": [],
      "source": [
        "%reload_ext autoreload\n",
        "%autoreload 2\n",
        "\n",
        "%matplotlib widget\n",
        "\n",
        "from pathlib import Path\n",
        "import typing as t\n",
        "\n",
        "import numpy\n",
        "from matplotlib import pyplot"
      ]
    },
    {
      "cell_type": "code",
      "execution_count": 25,
      "metadata": {},
      "outputs": [],
      "source": [
        "import json\n",
        "\n",
        "from fft_bench.main import BenchResult\n",
        "\n",
        "nb_path = Path(\"\").resolve()\n",
        "\n",
        "paths = [\n",
        "    Path('bench_macos_m1.json'),\n",
        "]\n",
        "\n",
        "results: t.List[BenchResult] = []\n",
        "\n",
        "for path in paths:\n",
        "    with open(path, 'r') as f:\n",
        "        for line in f:\n",
        "            results.append(BenchResult(**json.loads(line)))"
      ]
    },
    {
      "cell_type": "code",
      "execution_count": 26,
      "metadata": {},
      "outputs": [],
      "source": [
        "results"
      ]
    },
    {
      "cell_type": "code",
      "execution_count": 28,
      "metadata": {},
      "outputs": [],
      "source": [
        "from itertools import chain, product\n",
        "\n",
        "fig, ax = pyplot.subplots()\n",
        "\n",
        "ax.set_yscale('log')\n",
        "ax.set_xscale('log')\n",
        "\n",
        "for (backend, double) in product(('numpy', 'accelerate'), (False, True)):\n",
        "        rs = list(filter(lambda r: r.backend == backend and r.double == double and r.n_d == 2, results))\n",
        "        if len(rs) == 0:\n",
        "            continue\n",
        "\n",
        "        xs = list(chain.from_iterable(map(lambda r: (2**r.log2n,) * len(r.times), rs)))\n",
        "        ys = list(chain.from_iterable(map(lambda r: r.times, rs)))\n",
        "        ax.plot(xs, ys, ' ', marker='o' if double else 'x', color='blue' if backend == 'numpy' else 'red', markersize=5,\n",
        "                label=f\"{backend.title()} {'Double' if double else 'Single'}\")\n",
        "\n",
        "n_powers_x = 14\n",
        "n_powers_y = 16\n",
        "ax.set_xlim(32, 32 * 2**n_powers_x)\n",
        "ax.set_ylim(2e-5, 2e-5 * 2**n_powers_y)\n",
        "n_powers = max(n_powers_y, n_powers_x)\n",
        "ax.plot([32, 32 * 2**n_powers], [2e-5, 2e-5 * 2**n_powers])\n",
        "ax.set_aspect(n_powers_y / n_powers_x)\n",
        "\n",
        "ax.legend()\n",
        "ax.set_xlabel('# Points')\n",
        "ax.set_ylabel('Time per slice (s)')\n",
        "\n",
        "pyplot.show()"
      ]
    },
    {
      "cell_type": "code",
      "execution_count": null,
      "metadata": {},
      "outputs": [],
      "source": []
    }
  ],
  "metadata": {
    "kernelspec": {
      "display_name": "venv",
      "language": "python",
      "name": "python3"
    },
    "language_info": {
      "codemirror_mode": {
        "name": "ipython",
        "version": 3
      },
      "file_extension": ".py",
      "mimetype": "text/x-python",
      "name": "python",
      "nbconvert_exporter": "python",
      "pygments_lexer": "ipython3",
      "version": "3.10.9"
    },
    "orig_nbformat": 4,
    "vscode": {
      "interpreter": {
        "hash": "0e07ed706fbb05ec4d2bd208161ce444b3c711e650389ec7e87f0c48a101b331"
      }
    }
  },
  "nbformat": 4,
  "nbformat_minor": 2
}
